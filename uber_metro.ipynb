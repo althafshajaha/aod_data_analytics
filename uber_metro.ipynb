{
  "nbformat": 4,
  "nbformat_minor": 0,
  "metadata": {
    "colab": {
      "name": "Untitled0.ipynb",
      "provenance": [],
      "authorship_tag": "ABX9TyN2e8giQ6SGmRf6DdICeR4s",
      "include_colab_link": true
    },
    "kernelspec": {
      "name": "python3",
      "display_name": "Python 3"
    }
  },
  "cells": [
    {
      "cell_type": "markdown",
      "metadata": {
        "id": "view-in-github",
        "colab_type": "text"
      },
      "source": [
        "<a href=\"https://colab.research.google.com/github/althafshajaha/aod_data_analytics/blob/master/uber_metro.ipynb\" target=\"_parent\"><img src=\"https://colab.research.google.com/assets/colab-badge.svg\" alt=\"Open In Colab\"/></a>"
      ]
    },
    {
      "cell_type": "code",
      "metadata": {
        "id": "wpvKiawpRVpZ",
        "colab_type": "code",
        "colab": {
          "base_uri": "https://localhost:8080/",
          "height": 479
        },
        "outputId": "2d9a5fed-9a4d-4c03-f2cb-80f71e67c745"
      },
      "source": [
        "!pip install geopandas\n",
        "!pip install shapely"
      ],
      "execution_count": 1,
      "outputs": [
        {
          "output_type": "stream",
          "text": [
            "Collecting geopandas\n",
            "\u001b[?25l  Downloading https://files.pythonhosted.org/packages/83/c5/3cf9cdc39a6f2552922f79915f36b45a95b71fd343cfc51170a5b6ddb6e8/geopandas-0.7.0-py2.py3-none-any.whl (928kB)\n",
            "\r\u001b[K     |▍                               | 10kB 19.7MB/s eta 0:00:01\r\u001b[K     |▊                               | 20kB 5.3MB/s eta 0:00:01\r\u001b[K     |█                               | 30kB 5.5MB/s eta 0:00:01\r\u001b[K     |█▍                              | 40kB 6.5MB/s eta 0:00:01\r\u001b[K     |█▊                              | 51kB 6.1MB/s eta 0:00:01\r\u001b[K     |██▏                             | 61kB 6.0MB/s eta 0:00:01\r\u001b[K     |██▌                             | 71kB 6.1MB/s eta 0:00:01\r\u001b[K     |██▉                             | 81kB 6.2MB/s eta 0:00:01\r\u001b[K     |███▏                            | 92kB 6.5MB/s eta 0:00:01\r\u001b[K     |███▌                            | 102kB 6.3MB/s eta 0:00:01\r\u001b[K     |███▉                            | 112kB 6.3MB/s eta 0:00:01\r\u001b[K     |████▎                           | 122kB 6.3MB/s eta 0:00:01\r\u001b[K     |████▋                           | 133kB 6.3MB/s eta 0:00:01\r\u001b[K     |█████                           | 143kB 6.3MB/s eta 0:00:01\r\u001b[K     |█████▎                          | 153kB 6.3MB/s eta 0:00:01\r\u001b[K     |█████▋                          | 163kB 6.3MB/s eta 0:00:01\r\u001b[K     |██████                          | 174kB 6.3MB/s eta 0:00:01\r\u001b[K     |██████▍                         | 184kB 6.3MB/s eta 0:00:01\r\u001b[K     |██████▊                         | 194kB 6.3MB/s eta 0:00:01\r\u001b[K     |███████                         | 204kB 6.3MB/s eta 0:00:01\r\u001b[K     |███████▍                        | 215kB 6.3MB/s eta 0:00:01\r\u001b[K     |███████▊                        | 225kB 6.3MB/s eta 0:00:01\r\u001b[K     |████████▏                       | 235kB 6.3MB/s eta 0:00:01\r\u001b[K     |████████▌                       | 245kB 6.3MB/s eta 0:00:01\r\u001b[K     |████████▉                       | 256kB 6.3MB/s eta 0:00:01\r\u001b[K     |█████████▏                      | 266kB 6.3MB/s eta 0:00:01\r\u001b[K     |█████████▌                      | 276kB 6.3MB/s eta 0:00:01\r\u001b[K     |█████████▉                      | 286kB 6.3MB/s eta 0:00:01\r\u001b[K     |██████████▎                     | 296kB 6.3MB/s eta 0:00:01\r\u001b[K     |██████████▋                     | 307kB 6.3MB/s eta 0:00:01\r\u001b[K     |███████████                     | 317kB 6.3MB/s eta 0:00:01\r\u001b[K     |███████████▎                    | 327kB 6.3MB/s eta 0:00:01\r\u001b[K     |███████████▋                    | 337kB 6.3MB/s eta 0:00:01\r\u001b[K     |████████████                    | 348kB 6.3MB/s eta 0:00:01\r\u001b[K     |████████████▍                   | 358kB 6.3MB/s eta 0:00:01\r\u001b[K     |████████████▊                   | 368kB 6.3MB/s eta 0:00:01\r\u001b[K     |█████████████                   | 378kB 6.3MB/s eta 0:00:01\r\u001b[K     |█████████████▍                  | 389kB 6.3MB/s eta 0:00:01\r\u001b[K     |█████████████▊                  | 399kB 6.3MB/s eta 0:00:01\r\u001b[K     |██████████████▏                 | 409kB 6.3MB/s eta 0:00:01\r\u001b[K     |██████████████▌                 | 419kB 6.3MB/s eta 0:00:01\r\u001b[K     |██████████████▉                 | 430kB 6.3MB/s eta 0:00:01\r\u001b[K     |███████████████▏                | 440kB 6.3MB/s eta 0:00:01\r\u001b[K     |███████████████▌                | 450kB 6.3MB/s eta 0:00:01\r\u001b[K     |███████████████▉                | 460kB 6.3MB/s eta 0:00:01\r\u001b[K     |████████████████▎               | 471kB 6.3MB/s eta 0:00:01\r\u001b[K     |████████████████▋               | 481kB 6.3MB/s eta 0:00:01\r\u001b[K     |█████████████████               | 491kB 6.3MB/s eta 0:00:01\r\u001b[K     |█████████████████▎              | 501kB 6.3MB/s eta 0:00:01\r\u001b[K     |█████████████████▋              | 512kB 6.3MB/s eta 0:00:01\r\u001b[K     |██████████████████              | 522kB 6.3MB/s eta 0:00:01\r\u001b[K     |██████████████████▍             | 532kB 6.3MB/s eta 0:00:01\r\u001b[K     |██████████████████▊             | 542kB 6.3MB/s eta 0:00:01\r\u001b[K     |███████████████████             | 552kB 6.3MB/s eta 0:00:01\r\u001b[K     |███████████████████▍            | 563kB 6.3MB/s eta 0:00:01\r\u001b[K     |███████████████████▊            | 573kB 6.3MB/s eta 0:00:01\r\u001b[K     |████████████████████▏           | 583kB 6.3MB/s eta 0:00:01\r\u001b[K     |████████████████████▌           | 593kB 6.3MB/s eta 0:00:01\r\u001b[K     |████████████████████▉           | 604kB 6.3MB/s eta 0:00:01\r\u001b[K     |█████████████████████▏          | 614kB 6.3MB/s eta 0:00:01\r\u001b[K     |█████████████████████▌          | 624kB 6.3MB/s eta 0:00:01\r\u001b[K     |██████████████████████          | 634kB 6.3MB/s eta 0:00:01\r\u001b[K     |██████████████████████▎         | 645kB 6.3MB/s eta 0:00:01\r\u001b[K     |██████████████████████▋         | 655kB 6.3MB/s eta 0:00:01\r\u001b[K     |███████████████████████         | 665kB 6.3MB/s eta 0:00:01\r\u001b[K     |███████████████████████▎        | 675kB 6.3MB/s eta 0:00:01\r\u001b[K     |███████████████████████▋        | 686kB 6.3MB/s eta 0:00:01\r\u001b[K     |████████████████████████        | 696kB 6.3MB/s eta 0:00:01\r\u001b[K     |████████████████████████▍       | 706kB 6.3MB/s eta 0:00:01\r\u001b[K     |████████████████████████▊       | 716kB 6.3MB/s eta 0:00:01\r\u001b[K     |█████████████████████████       | 727kB 6.3MB/s eta 0:00:01\r\u001b[K     |█████████████████████████▍      | 737kB 6.3MB/s eta 0:00:01\r\u001b[K     |█████████████████████████▊      | 747kB 6.3MB/s eta 0:00:01\r\u001b[K     |██████████████████████████▏     | 757kB 6.3MB/s eta 0:00:01\r\u001b[K     |██████████████████████████▌     | 768kB 6.3MB/s eta 0:00:01\r\u001b[K     |██████████████████████████▉     | 778kB 6.3MB/s eta 0:00:01\r\u001b[K     |███████████████████████████▏    | 788kB 6.3MB/s eta 0:00:01\r\u001b[K     |███████████████████████████▌    | 798kB 6.3MB/s eta 0:00:01\r\u001b[K     |████████████████████████████    | 808kB 6.3MB/s eta 0:00:01\r\u001b[K     |████████████████████████████▎   | 819kB 6.3MB/s eta 0:00:01\r\u001b[K     |████████████████████████████▋   | 829kB 6.3MB/s eta 0:00:01\r\u001b[K     |█████████████████████████████   | 839kB 6.3MB/s eta 0:00:01\r\u001b[K     |█████████████████████████████▎  | 849kB 6.3MB/s eta 0:00:01\r\u001b[K     |█████████████████████████████▋  | 860kB 6.3MB/s eta 0:00:01\r\u001b[K     |██████████████████████████████  | 870kB 6.3MB/s eta 0:00:01\r\u001b[K     |██████████████████████████████▍ | 880kB 6.3MB/s eta 0:00:01\r\u001b[K     |██████████████████████████████▊ | 890kB 6.3MB/s eta 0:00:01\r\u001b[K     |███████████████████████████████ | 901kB 6.3MB/s eta 0:00:01\r\u001b[K     |███████████████████████████████▍| 911kB 6.3MB/s eta 0:00:01\r\u001b[K     |███████████████████████████████▊| 921kB 6.3MB/s eta 0:00:01\r\u001b[K     |████████████████████████████████| 931kB 6.3MB/s \n",
            "\u001b[?25hRequirement already satisfied: pandas>=0.23.0 in /usr/local/lib/python3.6/dist-packages (from geopandas) (1.0.4)\n",
            "Collecting pyproj>=2.2.0\n",
            "\u001b[?25l  Downloading https://files.pythonhosted.org/packages/e5/c3/071e080230ac4b6c64f1a2e2f9161c9737a2bc7b683d2c90b024825000c0/pyproj-2.6.1.post1-cp36-cp36m-manylinux2010_x86_64.whl (10.9MB)\n",
            "\u001b[K     |████████████████████████████████| 10.9MB 1.4MB/s \n",
            "\u001b[?25hRequirement already satisfied: shapely in /usr/local/lib/python3.6/dist-packages (from geopandas) (1.7.0)\n",
            "Collecting fiona\n",
            "\u001b[?25l  Downloading https://files.pythonhosted.org/packages/ec/20/4e63bc5c6e62df889297b382c3ccd4a7a488b00946aaaf81a118158c6f09/Fiona-1.8.13.post1-cp36-cp36m-manylinux1_x86_64.whl (14.7MB)\n",
            "\u001b[K     |████████████████████████████████| 14.7MB 246kB/s \n",
            "\u001b[?25hRequirement already satisfied: pytz>=2017.2 in /usr/local/lib/python3.6/dist-packages (from pandas>=0.23.0->geopandas) (2018.9)\n",
            "Requirement already satisfied: python-dateutil>=2.6.1 in /usr/local/lib/python3.6/dist-packages (from pandas>=0.23.0->geopandas) (2.8.1)\n",
            "Requirement already satisfied: numpy>=1.13.3 in /usr/local/lib/python3.6/dist-packages (from pandas>=0.23.0->geopandas) (1.18.4)\n",
            "Collecting click-plugins>=1.0\n",
            "  Downloading https://files.pythonhosted.org/packages/e9/da/824b92d9942f4e472702488857914bdd50f73021efea15b4cad9aca8ecef/click_plugins-1.1.1-py2.py3-none-any.whl\n",
            "Requirement already satisfied: six>=1.7 in /usr/local/lib/python3.6/dist-packages (from fiona->geopandas) (1.12.0)\n",
            "Requirement already satisfied: click<8,>=4.0 in /usr/local/lib/python3.6/dist-packages (from fiona->geopandas) (7.1.2)\n",
            "Collecting munch\n",
            "  Downloading https://files.pythonhosted.org/packages/cc/ab/85d8da5c9a45e072301beb37ad7f833cd344e04c817d97e0cc75681d248f/munch-2.5.0-py2.py3-none-any.whl\n",
            "Requirement already satisfied: attrs>=17 in /usr/local/lib/python3.6/dist-packages (from fiona->geopandas) (19.3.0)\n",
            "Collecting cligj>=0.5\n",
            "  Downloading https://files.pythonhosted.org/packages/e4/be/30a58b4b0733850280d01f8bd132591b4668ed5c7046761098d665ac2174/cligj-0.5.0-py3-none-any.whl\n",
            "Installing collected packages: pyproj, click-plugins, munch, cligj, fiona, geopandas\n",
            "Successfully installed click-plugins-1.1.1 cligj-0.5.0 fiona-1.8.13.post1 geopandas-0.7.0 munch-2.5.0 pyproj-2.6.1.post1\n",
            "Requirement already satisfied: shapely in /usr/local/lib/python3.6/dist-packages (1.7.0)\n"
          ],
          "name": "stdout"
        }
      ]
    }
  ]
}